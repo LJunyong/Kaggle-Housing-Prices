{
 "cells": [
  {
   "cell_type": "markdown",
   "metadata": {},
   "source": [
    "# Housing Prices Competition"
   ]
  },
  {
   "cell_type": "code",
   "execution_count": 1,
   "metadata": {
    "execution": {
     "iopub.execute_input": "2025-08-17T04:39:06.197290Z",
     "iopub.status.busy": "2025-08-17T04:39:06.197039Z",
     "iopub.status.idle": "2025-08-17T04:39:06.692408Z",
     "shell.execute_reply": "2025-08-17T04:39:06.691662Z",
     "shell.execute_reply.started": "2025-08-17T04:39:06.197267Z"
    }
   },
   "outputs": [
    {
     "name": "stdout",
     "output_type": "stream",
     "text": [
      "Setup Complete\n"
     ]
    }
   ],
   "source": [
    "# Set up code checking\n",
    "import os\n",
    "if not os.path.exists(\"../input/train.csv\"):\n",
    "    os.symlink(\"../input/home-data-for-ml-course/train.csv\", \"../input/train.csv\")  \n",
    "    os.symlink(\"../input/home-data-for-ml-course/test.csv\", \"../input/test.csv\") \n",
    "from learntools.core import binder\n",
    "binder.bind(globals())\n",
    "from learntools.ml_intermediate.ex2 import *\n",
    "print(\"Setup Complete\")"
   ]
  },
  {
   "cell_type": "markdown",
   "metadata": {},
   "source": [
    "## 1. 전처리"
   ]
  },
  {
   "cell_type": "markdown",
   "metadata": {
    "execution": {
     "iopub.execute_input": "2025-08-17T04:39:06.694072Z",
     "iopub.status.busy": "2025-08-17T04:39:06.693738Z",
     "iopub.status.idle": "2025-08-17T04:39:07.975730Z",
     "shell.execute_reply": "2025-08-17T04:39:07.974935Z",
     "shell.execute_reply.started": "2025-08-17T04:39:06.694050Z"
    }
   },
   "source": [
    "import pandas as pd\n",
    "from sklearn.model_selection import train_test_split\n",
    "\n",
    "X_full = pd.read_csv('../input/train.csv', index_col='Id')\n",
    "X_test_full = pd.read_csv('../input/test.csv', index_col='Id')\n",
    "\n",
    "X_full.dropna(axis=0, subset=['SalePrice'], inplace=True)\n",
    "y = X_full.SalePrice\n",
    "X_full.drop(['SalePrice'], axis=1, inplace=True)\n",
    "\n",
    "X = X_full.select_dtypes(exclude=['object'])\n",
    "X_test = X_test_full.select_dtypes(exclude=['object'])\n",
    "\n",
    "X_train, X_valid, y_train, y_valid = train_test_split(X, y, train_size=0.8, test_size=0.2,\n",
    "                                                      random_state=0)"
   ]
  },
  {
   "cell_type": "code",
   "execution_count": 3,
   "metadata": {
    "execution": {
     "iopub.execute_input": "2025-08-17T04:39:07.976856Z",
     "iopub.status.busy": "2025-08-17T04:39:07.976587Z",
     "iopub.status.idle": "2025-08-17T04:39:07.981236Z",
     "shell.execute_reply": "2025-08-17T04:39:07.980536Z",
     "shell.execute_reply.started": "2025-08-17T04:39:07.976828Z"
    }
   },
   "outputs": [
    {
     "name": "stdout",
     "output_type": "stream",
     "text": [
      "(1168, 36)\n"
     ]
    }
   ],
   "source": [
    "print(X_train.shape)"
   ]
  },
  {
   "cell_type": "code",
   "execution_count": 5,
   "metadata": {
    "execution": {
     "iopub.execute_input": "2025-08-17T04:39:08.316229Z",
     "iopub.status.busy": "2025-08-17T04:39:08.315973Z",
     "iopub.status.idle": "2025-08-17T04:39:08.355151Z",
     "shell.execute_reply": "2025-08-17T04:39:08.354143Z",
     "shell.execute_reply.started": "2025-08-17T04:39:08.316206Z"
    }
   },
   "outputs": [],
   "source": [
    "from sklearn.impute import SimpleImputer\n",
    "my_imputer=SimpleImputer()\n",
    "final_X_train = pd.DataFrame(my_imputer.fit_transform(X_train))\n",
    "final_X_valid = pd.DataFrame(my_imputer.transform(X_valid))\n",
    "final_X_train.columns = X_train.columns\n",
    "final_X_valid.columns = X_valid.columns"
   ]
  },
  {
   "cell_type": "markdown",
   "metadata": {},
   "source": [
    "## 2. 모델 학습"
   ]
  },
  {
   "cell_type": "code",
   "execution_count": 23,
   "metadata": {
    "execution": {
     "iopub.execute_input": "2025-08-17T05:14:37.401029Z",
     "iopub.status.busy": "2025-08-17T05:14:37.400429Z",
     "iopub.status.idle": "2025-08-17T05:27:27.830468Z",
     "shell.execute_reply": "2025-08-17T05:27:27.829904Z",
     "shell.execute_reply.started": "2025-08-17T05:14:37.401001Z"
    }
   },
   "outputs": [
    {
     "name": "stdout",
     "output_type": "stream",
     "text": [
      "Fitting 5 folds for each of 50 candidates, totalling 250 fits\n",
      "17074.574780607876\n"
     ]
    }
   ],
   "source": [
    "from xgboost import XGBRegressor\n",
    "from sklearn.model_selection import RandomizedSearchCV\n",
    "from sklearn.metrics import mean_absolute_error\n",
    "\n",
    "param = {\n",
    "    'n_estimators': [800, 1000, 1200],\n",
    "    'max_depth': [5, 6],\n",
    "    'learning_rate': [0.005, 0.01, 0.03],\n",
    "    'reg_lambda': [10,20,50,100],\n",
    "    'reg_alpha': [0.1, 1, 5, 10],\n",
    "    'subsample': [0.7, 0.8],\n",
    "    'colsample_bytree': [0.7, 0.8]\n",
    "}\n",
    "\n",
    "xgb = XGBRegressor(tree_method='hist', device = 'cuda' , random_state=42)\n",
    "\n",
    "random_search = RandomizedSearchCV(\n",
    "    estimator=xgb,\n",
    "    param_distributions=param,\n",
    "    n_iter=50,  \n",
    "    cv=5 ,     \n",
    "    scoring='neg_mean_absolute_error',\n",
    "    verbose=1,\n",
    "    random_state=42,\n",
    "    n_jobs=-1\n",
    ")\n",
    "\n",
    "random_search.fit(final_X_train, y_train)\n",
    "\n",
    "model = random_search.best_estimator_\n",
    "\n",
    "preds_valid = model.predict(final_X_valid)\n",
    "print(mean_absolute_error(y_valid, preds_valid))"
   ]
  },
  {
   "cell_type": "markdown",
   "metadata": {},
   "source": [
    "## 3. 모델 평가"
   ]
  },
  {
   "cell_type": "code",
   "execution_count": 25,
   "metadata": {
    "execution": {
     "iopub.execute_input": "2025-08-17T05:28:54.589312Z",
     "iopub.status.busy": "2025-08-17T05:28:54.589039Z",
     "iopub.status.idle": "2025-08-17T05:28:54.609416Z",
     "shell.execute_reply": "2025-08-17T05:28:54.608899Z",
     "shell.execute_reply.started": "2025-08-17T05:28:54.589291Z"
    }
   },
   "outputs": [
    {
     "name": "stdout",
     "output_type": "stream",
     "text": [
      "0.9730627605361916\n",
      "{'subsample': 0.7, 'reg_lambda': 10, 'reg_alpha': 5, 'n_estimators': 1000, 'max_depth': 5, 'learning_rate': 0.01, 'colsample_bytree': 0.7}\n",
      "-16258.304953505009\n"
     ]
    }
   ],
   "source": [
    "print(model.score(final_X_train, y_train))\n",
    "print(random_search.best_params_)\n",
    "print(random_search.best_score_)"
   ]
  },
  {
   "cell_type": "code",
   "execution_count": 26,
   "metadata": {
    "execution": {
     "iopub.execute_input": "2025-08-17T05:28:56.262868Z",
     "iopub.status.busy": "2025-08-17T05:28:56.262626Z",
     "iopub.status.idle": "2025-08-17T05:28:56.286697Z",
     "shell.execute_reply": "2025-08-17T05:28:56.286200Z",
     "shell.execute_reply.started": "2025-08-17T05:28:56.262850Z"
    }
   },
   "outputs": [],
   "source": [
    "imputer=SimpleImputer()\n",
    "final_X_test = pd.DataFrame(imputer.fit_transform(X_test), columns=X_test.columns, index=X_test.index)\n",
    "preds_test = model.predict(final_X_test)"
   ]
  },
  {
   "cell_type": "code",
   "execution_count": 27,
   "metadata": {
    "execution": {
     "iopub.execute_input": "2025-08-17T05:29:01.480455Z",
     "iopub.status.busy": "2025-08-17T05:29:01.480189Z",
     "iopub.status.idle": "2025-08-17T05:29:01.488564Z",
     "shell.execute_reply": "2025-08-17T05:29:01.487813Z",
     "shell.execute_reply.started": "2025-08-17T05:29:01.480434Z"
    }
   },
   "outputs": [],
   "source": [
    "# Save test predictions to file\n",
    "output = pd.DataFrame({'Id': final_X_test.index,\n",
    "                       'SalePrice': preds_test})\n",
    "output.to_csv('submission12.csv', index=False)"
   ]
  },
  {
   "cell_type": "markdown",
   "metadata": {},
   "source": [
    "## 4. 최종 Test 예측 결과"
   ]
  },
  {
   "cell_type": "markdown",
   "metadata": {},
   "source": [
    "15127.51213점  (359/6073 등)"
   ]
  },
  {
   "cell_type": "markdown",
   "metadata": {},
   "source": [
    "위 분석을 하면서 SimpleImputer를 통한 결측값 처리, 랜덤서치 등을 활용할 수 있게 되었다. \n",
    "랜덤서치는 xgboost로 진행하였고, 과대적합과 과소적합을 고려해서 탐색 파라미터 범위를 바꿔보며 모델의 일반화 성능을 올렸다.   \n",
    "이 경험이 앞으로 데이터 전처리와 하이퍼파라미터 튜닝에 도움이 될 것으로 예상한다.\n",
    "앞으로 eda를 통한 피쳐 중요도파악, 검증집합 그래프, 앙상블 기법 등을 시도하여 모델의 성능을 더 향상할 수 있을 것으로 예상한다."
   ]
  }
 ],
 "metadata": {
  "kaggle": {
   "accelerator": "gpu",
   "dataSources": [
    {
     "databundleVersionId": 111096,
     "sourceId": 10211,
     "sourceType": "competition"
    }
   ],
   "isGpuEnabled": true,
   "isInternetEnabled": false,
   "language": "python",
   "sourceType": "notebook"
  },
  "kernelspec": {
   "display_name": "Python 3 (ipykernel)",
   "language": "python",
   "name": "python3"
  },
  "language_info": {
   "codemirror_mode": {
    "name": "ipython",
    "version": 3
   },
   "file_extension": ".py",
   "mimetype": "text/x-python",
   "name": "python",
   "nbconvert_exporter": "python",
   "pygments_lexer": "ipython3",
   "version": "3.12.7"
  }
 },
 "nbformat": 4,
 "nbformat_minor": 4
}
